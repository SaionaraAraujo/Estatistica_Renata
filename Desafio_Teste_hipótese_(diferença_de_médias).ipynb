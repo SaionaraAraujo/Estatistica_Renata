{
  "nbformat": 4,
  "nbformat_minor": 0,
  "metadata": {
    "colab": {
      "provenance": [],
      "toc_visible": true,
      "mount_file_id": "1uVn97EvdQ_yVWHyE0CkQgNawOjxkTMIU",
      "authorship_tag": "ABX9TyNNiWw/h0Wh/OKi9sUH1GhB",
      "include_colab_link": true
    },
    "kernelspec": {
      "name": "python3",
      "display_name": "Python 3"
    },
    "language_info": {
      "name": "python"
    }
  },
  "cells": [
    {
      "cell_type": "markdown",
      "metadata": {
        "id": "view-in-github",
        "colab_type": "text"
      },
      "source": [
        "<a href=\"https://colab.research.google.com/github/SaionaraAraujo/Estatistica_do_basico_ao_avancado/blob/main/Desafio_Teste_hip%C3%B3tese_(diferen%C3%A7a_de_m%C3%A9dias).ipynb\" target=\"_parent\"><img src=\"https://colab.research.google.com/assets/colab-badge.svg\" alt=\"Open In Colab\"/></a>"
      ]
    },
    {
      "cell_type": "markdown",
      "source": [
        "#Descrição do desafio"
      ],
      "metadata": {
        "id": "4XAYR50JzDrx"
      }
    },
    {
      "cell_type": "markdown",
      "source": [
        "Somos uma ong de animais e queremos incentivar a adoção de pets. Para isso, vamos mostrar um vídeo de animais para as pessoas. Porém, não sabemos o que é mais efetivo: um vídeo de cachorros ou um vídeo de gatos.\n",
        "\n",
        "Por isso, resolvemos rodar um experimento: vamos criar 2 vídeos, um de cachorro e outro de gato. Depois, vamos perguntar as pessoas a probabilidade de que ela adote um animal.\n",
        "\n",
        "*As pessoas desse experimento só verão 1 vídeo cada\n",
        "\n",
        "*Ao final do vídeo perguntamos a elas a probabilidade de que elas adotem um animal\n",
        "\n",
        "*As amostras são aleatorias e sem viéses sistematicos\n",
        "\n",
        "Objetivo: Avaliar qual animal (cachorro ou gato) deve estar em um vídeo de campanha de adoção\n",
        "\n",
        "Experimento: 500 pessoas que não possuem animais de estimação assistem aos vídeos de campanha de adoção. Os vídeos são idênticos com exceção dos animais mostrados:\n",
        "\n",
        "    250 pessoas aleatorizadas para o vídeo com gato\n",
        "    250 pessoas aleatorizadas para o vídeo com cachorro\n",
        "\n",
        "Resposta: \"Qual a chance de adotar um pet? (0-100)\" depois do vídeo\n",
        "\n",
        "A média de probabilidade de quem ve o vídeo de gato é igual a de cachorro?"
      ],
      "metadata": {
        "id": "_L1loJpkheJ5"
      }
    },
    {
      "cell_type": "markdown",
      "source": [
        "Podemos definir as hipóteses como segue:\n",
        "*   **H0 = as médias são iguais**, ou seja `m1-m2 = 0`\n",
        "*   **H1 = as médias não são iguais**\n"
      ],
      "metadata": {
        "id": "j8ocpAC7zIYT"
      }
    },
    {
      "cell_type": "markdown",
      "source": [
        "#Preprando o ambiente"
      ],
      "metadata": {
        "id": "LmThscoChhyR"
      }
    },
    {
      "cell_type": "code",
      "execution_count": null,
      "metadata": {
        "id": "l0BwAEPDKHjt"
      },
      "outputs": [],
      "source": [
        "import pandas as pd\n",
        "import numpy as np\n",
        "import seaborn as sns\n",
        "from matplotlib import pyplot as plt"
      ]
    },
    {
      "cell_type": "code",
      "source": [
        "df = pd.read_csv(\"/content/drive/MyDrive/Cópia de cachorro_gato.csv\")"
      ],
      "metadata": {
        "id": "c2M3wTU_hwIk"
      },
      "execution_count": null,
      "outputs": []
    },
    {
      "cell_type": "markdown",
      "source": [
        "#Análise Descritiva"
      ],
      "metadata": {
        "id": "i_VVpjeQhsWx"
      }
    },
    {
      "cell_type": "markdown",
      "source": [
        "Primeiras linhas do do conjunto de dados:"
      ],
      "metadata": {
        "id": "DYu8FW3ei3-Z"
      }
    },
    {
      "cell_type": "code",
      "source": [
        "df.head()"
      ],
      "metadata": {
        "colab": {
          "base_uri": "https://localhost:8080/",
          "height": 206
        },
        "id": "WnCplsTni7jc",
        "outputId": "3fade5a1-9fdf-4057-9c05-0e61149a5564"
      },
      "execution_count": null,
      "outputs": [
        {
          "output_type": "execute_result",
          "data": {
            "text/plain": [
              "   Unnamed: 0  grupo     escore\n",
              "0           0      1  59.853433\n",
              "1           1      0  66.353529\n",
              "2           2      1  56.495813\n",
              "3           3      0  67.995090\n",
              "4           4      1  70.434375"
            ],
            "text/html": [
              "\n",
              "  <div id=\"df-711329c1-54f5-4143-8b69-5a36d9acfebc\">\n",
              "    <div class=\"colab-df-container\">\n",
              "      <div>\n",
              "<style scoped>\n",
              "    .dataframe tbody tr th:only-of-type {\n",
              "        vertical-align: middle;\n",
              "    }\n",
              "\n",
              "    .dataframe tbody tr th {\n",
              "        vertical-align: top;\n",
              "    }\n",
              "\n",
              "    .dataframe thead th {\n",
              "        text-align: right;\n",
              "    }\n",
              "</style>\n",
              "<table border=\"1\" class=\"dataframe\">\n",
              "  <thead>\n",
              "    <tr style=\"text-align: right;\">\n",
              "      <th></th>\n",
              "      <th>Unnamed: 0</th>\n",
              "      <th>grupo</th>\n",
              "      <th>escore</th>\n",
              "    </tr>\n",
              "  </thead>\n",
              "  <tbody>\n",
              "    <tr>\n",
              "      <th>0</th>\n",
              "      <td>0</td>\n",
              "      <td>1</td>\n",
              "      <td>59.853433</td>\n",
              "    </tr>\n",
              "    <tr>\n",
              "      <th>1</th>\n",
              "      <td>1</td>\n",
              "      <td>0</td>\n",
              "      <td>66.353529</td>\n",
              "    </tr>\n",
              "    <tr>\n",
              "      <th>2</th>\n",
              "      <td>2</td>\n",
              "      <td>1</td>\n",
              "      <td>56.495813</td>\n",
              "    </tr>\n",
              "    <tr>\n",
              "      <th>3</th>\n",
              "      <td>3</td>\n",
              "      <td>0</td>\n",
              "      <td>67.995090</td>\n",
              "    </tr>\n",
              "    <tr>\n",
              "      <th>4</th>\n",
              "      <td>4</td>\n",
              "      <td>1</td>\n",
              "      <td>70.434375</td>\n",
              "    </tr>\n",
              "  </tbody>\n",
              "</table>\n",
              "</div>\n",
              "      <button class=\"colab-df-convert\" onclick=\"convertToInteractive('df-711329c1-54f5-4143-8b69-5a36d9acfebc')\"\n",
              "              title=\"Convert this dataframe to an interactive table.\"\n",
              "              style=\"display:none;\">\n",
              "        \n",
              "  <svg xmlns=\"http://www.w3.org/2000/svg\" height=\"24px\"viewBox=\"0 0 24 24\"\n",
              "       width=\"24px\">\n",
              "    <path d=\"M0 0h24v24H0V0z\" fill=\"none\"/>\n",
              "    <path d=\"M18.56 5.44l.94 2.06.94-2.06 2.06-.94-2.06-.94-.94-2.06-.94 2.06-2.06.94zm-11 1L8.5 8.5l.94-2.06 2.06-.94-2.06-.94L8.5 2.5l-.94 2.06-2.06.94zm10 10l.94 2.06.94-2.06 2.06-.94-2.06-.94-.94-2.06-.94 2.06-2.06.94z\"/><path d=\"M17.41 7.96l-1.37-1.37c-.4-.4-.92-.59-1.43-.59-.52 0-1.04.2-1.43.59L10.3 9.45l-7.72 7.72c-.78.78-.78 2.05 0 2.83L4 21.41c.39.39.9.59 1.41.59.51 0 1.02-.2 1.41-.59l7.78-7.78 2.81-2.81c.8-.78.8-2.07 0-2.86zM5.41 20L4 18.59l7.72-7.72 1.47 1.35L5.41 20z\"/>\n",
              "  </svg>\n",
              "      </button>\n",
              "      \n",
              "  <style>\n",
              "    .colab-df-container {\n",
              "      display:flex;\n",
              "      flex-wrap:wrap;\n",
              "      gap: 12px;\n",
              "    }\n",
              "\n",
              "    .colab-df-convert {\n",
              "      background-color: #E8F0FE;\n",
              "      border: none;\n",
              "      border-radius: 50%;\n",
              "      cursor: pointer;\n",
              "      display: none;\n",
              "      fill: #1967D2;\n",
              "      height: 32px;\n",
              "      padding: 0 0 0 0;\n",
              "      width: 32px;\n",
              "    }\n",
              "\n",
              "    .colab-df-convert:hover {\n",
              "      background-color: #E2EBFA;\n",
              "      box-shadow: 0px 1px 2px rgba(60, 64, 67, 0.3), 0px 1px 3px 1px rgba(60, 64, 67, 0.15);\n",
              "      fill: #174EA6;\n",
              "    }\n",
              "\n",
              "    [theme=dark] .colab-df-convert {\n",
              "      background-color: #3B4455;\n",
              "      fill: #D2E3FC;\n",
              "    }\n",
              "\n",
              "    [theme=dark] .colab-df-convert:hover {\n",
              "      background-color: #434B5C;\n",
              "      box-shadow: 0px 1px 3px 1px rgba(0, 0, 0, 0.15);\n",
              "      filter: drop-shadow(0px 1px 2px rgba(0, 0, 0, 0.3));\n",
              "      fill: #FFFFFF;\n",
              "    }\n",
              "  </style>\n",
              "\n",
              "      <script>\n",
              "        const buttonEl =\n",
              "          document.querySelector('#df-711329c1-54f5-4143-8b69-5a36d9acfebc button.colab-df-convert');\n",
              "        buttonEl.style.display =\n",
              "          google.colab.kernel.accessAllowed ? 'block' : 'none';\n",
              "\n",
              "        async function convertToInteractive(key) {\n",
              "          const element = document.querySelector('#df-711329c1-54f5-4143-8b69-5a36d9acfebc');\n",
              "          const dataTable =\n",
              "            await google.colab.kernel.invokeFunction('convertToInteractive',\n",
              "                                                     [key], {});\n",
              "          if (!dataTable) return;\n",
              "\n",
              "          const docLinkHtml = 'Like what you see? Visit the ' +\n",
              "            '<a target=\"_blank\" href=https://colab.research.google.com/notebooks/data_table.ipynb>data table notebook</a>'\n",
              "            + ' to learn more about interactive tables.';\n",
              "          element.innerHTML = '';\n",
              "          dataTable['output_type'] = 'display_data';\n",
              "          await google.colab.output.renderOutput(dataTable, element);\n",
              "          const docLink = document.createElement('div');\n",
              "          docLink.innerHTML = docLinkHtml;\n",
              "          element.appendChild(docLink);\n",
              "        }\n",
              "      </script>\n",
              "    </div>\n",
              "  </div>\n",
              "  "
            ]
          },
          "metadata": {},
          "execution_count": 4
        }
      ]
    },
    {
      "cell_type": "markdown",
      "source": [
        "##Dicionário de dados"
      ],
      "metadata": {
        "id": "7s6ver83i_Az"
      }
    },
    {
      "cell_type": "markdown",
      "source": [
        "** Grupo - Pessoas que viram o vídeo com cachorro são do Grupo 0 e as que viram o vídeo com gato pertencem ao Grupo 1\n",
        "\n",
        "**Escore - Probabilidade de adotar um pet após assistir o vídeo"
      ],
      "metadata": {
        "id": "CpP6uLHljCPC"
      }
    },
    {
      "cell_type": "markdown",
      "source": [
        "##Medidas estatísitcas por Grupo"
      ],
      "metadata": {
        "id": "AqMfk_LGjftd"
      }
    },
    {
      "cell_type": "code",
      "source": [
        "df.groupby('grupo').describe()"
      ],
      "metadata": {
        "colab": {
          "base_uri": "https://localhost:8080/",
          "height": 239
        },
        "id": "JaRZoSpOjaB4",
        "outputId": "cb594943-72e4-40c7-9aea-32b5535b763f"
      },
      "execution_count": null,
      "outputs": [
        {
          "output_type": "execute_result",
          "data": {
            "text/plain": [
              "      Unnamed: 0                                                           \\\n",
              "           count        mean         std  min    25%    50%    75%    max   \n",
              "grupo                                                                       \n",
              "0          253.0  247.470356  147.772334  1.0  117.0  256.0  366.0  499.0   \n",
              "1          247.0  251.578947  141.301675  0.0  131.5  240.0  377.5  497.0   \n",
              "\n",
              "      escore                                                         \\\n",
              "       count       mean        std        min        25%        50%   \n",
              "grupo                                                                 \n",
              "0      253.0  55.531922  14.665402  16.304739  44.488055  55.802372   \n",
              "1      247.0  56.744495  14.913287  14.654955  48.682432  56.924405   \n",
              "\n",
              "                             \n",
              "             75%        max  \n",
              "grupo                        \n",
              "0      66.249013  95.309459  \n",
              "1      66.817326  93.259671  "
            ],
            "text/html": [
              "\n",
              "  <div id=\"df-d5e8f910-5ac5-4cb6-93b8-89e6de4b03a2\">\n",
              "    <div class=\"colab-df-container\">\n",
              "      <div>\n",
              "<style scoped>\n",
              "    .dataframe tbody tr th:only-of-type {\n",
              "        vertical-align: middle;\n",
              "    }\n",
              "\n",
              "    .dataframe tbody tr th {\n",
              "        vertical-align: top;\n",
              "    }\n",
              "\n",
              "    .dataframe thead tr th {\n",
              "        text-align: left;\n",
              "    }\n",
              "\n",
              "    .dataframe thead tr:last-of-type th {\n",
              "        text-align: right;\n",
              "    }\n",
              "</style>\n",
              "<table border=\"1\" class=\"dataframe\">\n",
              "  <thead>\n",
              "    <tr>\n",
              "      <th></th>\n",
              "      <th colspan=\"8\" halign=\"left\">Unnamed: 0</th>\n",
              "      <th colspan=\"8\" halign=\"left\">escore</th>\n",
              "    </tr>\n",
              "    <tr>\n",
              "      <th></th>\n",
              "      <th>count</th>\n",
              "      <th>mean</th>\n",
              "      <th>std</th>\n",
              "      <th>min</th>\n",
              "      <th>25%</th>\n",
              "      <th>50%</th>\n",
              "      <th>75%</th>\n",
              "      <th>max</th>\n",
              "      <th>count</th>\n",
              "      <th>mean</th>\n",
              "      <th>std</th>\n",
              "      <th>min</th>\n",
              "      <th>25%</th>\n",
              "      <th>50%</th>\n",
              "      <th>75%</th>\n",
              "      <th>max</th>\n",
              "    </tr>\n",
              "    <tr>\n",
              "      <th>grupo</th>\n",
              "      <th></th>\n",
              "      <th></th>\n",
              "      <th></th>\n",
              "      <th></th>\n",
              "      <th></th>\n",
              "      <th></th>\n",
              "      <th></th>\n",
              "      <th></th>\n",
              "      <th></th>\n",
              "      <th></th>\n",
              "      <th></th>\n",
              "      <th></th>\n",
              "      <th></th>\n",
              "      <th></th>\n",
              "      <th></th>\n",
              "      <th></th>\n",
              "    </tr>\n",
              "  </thead>\n",
              "  <tbody>\n",
              "    <tr>\n",
              "      <th>0</th>\n",
              "      <td>253.0</td>\n",
              "      <td>247.470356</td>\n",
              "      <td>147.772334</td>\n",
              "      <td>1.0</td>\n",
              "      <td>117.0</td>\n",
              "      <td>256.0</td>\n",
              "      <td>366.0</td>\n",
              "      <td>499.0</td>\n",
              "      <td>253.0</td>\n",
              "      <td>55.531922</td>\n",
              "      <td>14.665402</td>\n",
              "      <td>16.304739</td>\n",
              "      <td>44.488055</td>\n",
              "      <td>55.802372</td>\n",
              "      <td>66.249013</td>\n",
              "      <td>95.309459</td>\n",
              "    </tr>\n",
              "    <tr>\n",
              "      <th>1</th>\n",
              "      <td>247.0</td>\n",
              "      <td>251.578947</td>\n",
              "      <td>141.301675</td>\n",
              "      <td>0.0</td>\n",
              "      <td>131.5</td>\n",
              "      <td>240.0</td>\n",
              "      <td>377.5</td>\n",
              "      <td>497.0</td>\n",
              "      <td>247.0</td>\n",
              "      <td>56.744495</td>\n",
              "      <td>14.913287</td>\n",
              "      <td>14.654955</td>\n",
              "      <td>48.682432</td>\n",
              "      <td>56.924405</td>\n",
              "      <td>66.817326</td>\n",
              "      <td>93.259671</td>\n",
              "    </tr>\n",
              "  </tbody>\n",
              "</table>\n",
              "</div>\n",
              "      <button class=\"colab-df-convert\" onclick=\"convertToInteractive('df-d5e8f910-5ac5-4cb6-93b8-89e6de4b03a2')\"\n",
              "              title=\"Convert this dataframe to an interactive table.\"\n",
              "              style=\"display:none;\">\n",
              "        \n",
              "  <svg xmlns=\"http://www.w3.org/2000/svg\" height=\"24px\"viewBox=\"0 0 24 24\"\n",
              "       width=\"24px\">\n",
              "    <path d=\"M0 0h24v24H0V0z\" fill=\"none\"/>\n",
              "    <path d=\"M18.56 5.44l.94 2.06.94-2.06 2.06-.94-2.06-.94-.94-2.06-.94 2.06-2.06.94zm-11 1L8.5 8.5l.94-2.06 2.06-.94-2.06-.94L8.5 2.5l-.94 2.06-2.06.94zm10 10l.94 2.06.94-2.06 2.06-.94-2.06-.94-.94-2.06-.94 2.06-2.06.94z\"/><path d=\"M17.41 7.96l-1.37-1.37c-.4-.4-.92-.59-1.43-.59-.52 0-1.04.2-1.43.59L10.3 9.45l-7.72 7.72c-.78.78-.78 2.05 0 2.83L4 21.41c.39.39.9.59 1.41.59.51 0 1.02-.2 1.41-.59l7.78-7.78 2.81-2.81c.8-.78.8-2.07 0-2.86zM5.41 20L4 18.59l7.72-7.72 1.47 1.35L5.41 20z\"/>\n",
              "  </svg>\n",
              "      </button>\n",
              "      \n",
              "  <style>\n",
              "    .colab-df-container {\n",
              "      display:flex;\n",
              "      flex-wrap:wrap;\n",
              "      gap: 12px;\n",
              "    }\n",
              "\n",
              "    .colab-df-convert {\n",
              "      background-color: #E8F0FE;\n",
              "      border: none;\n",
              "      border-radius: 50%;\n",
              "      cursor: pointer;\n",
              "      display: none;\n",
              "      fill: #1967D2;\n",
              "      height: 32px;\n",
              "      padding: 0 0 0 0;\n",
              "      width: 32px;\n",
              "    }\n",
              "\n",
              "    .colab-df-convert:hover {\n",
              "      background-color: #E2EBFA;\n",
              "      box-shadow: 0px 1px 2px rgba(60, 64, 67, 0.3), 0px 1px 3px 1px rgba(60, 64, 67, 0.15);\n",
              "      fill: #174EA6;\n",
              "    }\n",
              "\n",
              "    [theme=dark] .colab-df-convert {\n",
              "      background-color: #3B4455;\n",
              "      fill: #D2E3FC;\n",
              "    }\n",
              "\n",
              "    [theme=dark] .colab-df-convert:hover {\n",
              "      background-color: #434B5C;\n",
              "      box-shadow: 0px 1px 3px 1px rgba(0, 0, 0, 0.15);\n",
              "      filter: drop-shadow(0px 1px 2px rgba(0, 0, 0, 0.3));\n",
              "      fill: #FFFFFF;\n",
              "    }\n",
              "  </style>\n",
              "\n",
              "      <script>\n",
              "        const buttonEl =\n",
              "          document.querySelector('#df-d5e8f910-5ac5-4cb6-93b8-89e6de4b03a2 button.colab-df-convert');\n",
              "        buttonEl.style.display =\n",
              "          google.colab.kernel.accessAllowed ? 'block' : 'none';\n",
              "\n",
              "        async function convertToInteractive(key) {\n",
              "          const element = document.querySelector('#df-d5e8f910-5ac5-4cb6-93b8-89e6de4b03a2');\n",
              "          const dataTable =\n",
              "            await google.colab.kernel.invokeFunction('convertToInteractive',\n",
              "                                                     [key], {});\n",
              "          if (!dataTable) return;\n",
              "\n",
              "          const docLinkHtml = 'Like what you see? Visit the ' +\n",
              "            '<a target=\"_blank\" href=https://colab.research.google.com/notebooks/data_table.ipynb>data table notebook</a>'\n",
              "            + ' to learn more about interactive tables.';\n",
              "          element.innerHTML = '';\n",
              "          dataTable['output_type'] = 'display_data';\n",
              "          await google.colab.output.renderOutput(dataTable, element);\n",
              "          const docLink = document.createElement('div');\n",
              "          docLink.innerHTML = docLinkHtml;\n",
              "          element.appendChild(docLink);\n",
              "        }\n",
              "      </script>\n",
              "    </div>\n",
              "  </div>\n",
              "  "
            ]
          },
          "metadata": {},
          "execution_count": 5
        }
      ]
    },
    {
      "cell_type": "markdown",
      "source": [
        "Podemos perceber que as medidas de tendência central **(média, mediana e desvio padrão)** do grupo 0, são ligeiramente maiores que a do grupo 1"
      ],
      "metadata": {
        "id": "4Uzu5w3Ej7-6"
      }
    },
    {
      "cell_type": "markdown",
      "source": [
        "##Histograma por Grupo"
      ],
      "metadata": {
        "id": "vQiVV0HEkPGv"
      }
    },
    {
      "cell_type": "code",
      "source": [
        "sns.histplot(df[df['grupo'] == 0]['escore'], label = 'Cachorro', color = \"green\") #histograma grupo 0\n",
        "sns.histplot(df[df['grupo'] == 1]['escore'], label = 'Gato', color=\"gray\")  #histograma grupo 1\n",
        "plt.xlabel('Escore (0 a 100)')\n",
        "plt.legend()\n",
        "plt.show()"
      ],
      "metadata": {
        "colab": {
          "base_uri": "https://localhost:8080/",
          "height": 279
        },
        "id": "FusioL4skX_y",
        "outputId": "d27d7592-98b2-452f-b663-7b86cc33ad6a"
      },
      "execution_count": null,
      "outputs": [
        {
          "output_type": "display_data",
          "data": {
            "text/plain": [
              "<Figure size 432x288 with 1 Axes>"
            ],
            "image/png": "[encoded data removed]"
          },
          "metadata": {
            "needs_background": "light"
          }
        }
      ]
    },
    {
      "cell_type": "markdown",
      "source": [
        "O histograma nos mostra distribuições parecidas e que aparentam ser, aproximadamente, normais. Nessas condições, podemos utilizar o teste de hipótese para verificar se as médias são significamente diferentes. "
      ],
      "metadata": {
        "id": "awW4XKuclB_3"
      }
    },
    {
      "cell_type": "markdown",
      "source": [
        "Neste caso, o teste escolhido deve ser o que avalia a média para duas amostras independetes e como não há informação do desvio padrão da população, há apenas das amostras, podemos aplicar o teste t"
      ],
      "metadata": {
        "id": "19_W_ICslVJV"
      }
    },
    {
      "cell_type": "markdown",
      "source": [
        "#Comparação das duas médias com o Teste t independente"
      ],
      "metadata": {
        "id": "vaccPD2Bl-VV"
      }
    },
    {
      "cell_type": "code",
      "source": [
        "#Importar a biblioteca de estatística\n",
        "from scipy.stats import ttest_ind"
      ],
      "metadata": {
        "id": "u7Csuc02mD_z"
      },
      "execution_count": null,
      "outputs": []
    },
    {
      "cell_type": "code",
      "source": [
        "#Aplicando o teste\n",
        "ttest_ind( df[df['grupo']==0]['escore'],df[df['grupo']==1]['escore'])"
      ],
      "metadata": {
        "colab": {
          "base_uri": "https://localhost:8080/"
        },
        "id": "yxZ4XkwMmTHi",
        "outputId": "573a1bd5-76ce-4a1b-9c5c-8b9dbc8a15c4"
      },
      "execution_count": null,
      "outputs": [
        {
          "output_type": "execute_result",
          "data": {
            "text/plain": [
              "Ttest_indResult(statistic=-0.9166663411409343, pvalue=0.35976119585131083)"
            ]
          },
          "metadata": {},
          "execution_count": 12
        }
      ]
    },
    {
      "cell_type": "markdown",
      "source": [
        "Como resultado, a função `ttest_ind`retorna uma tupla contendo o valor do teste e o p-value. Vamos organizar a tupla obtida e analisar o p-value, considerando o nível de significância de 5%."
      ],
      "metadata": {
        "id": "OLjxGmCHnHX6"
      }
    },
    {
      "cell_type": "code",
      "source": [
        "t,pvalue = ttest_ind( df[df['grupo']==0]['escore'],df[df['grupo']==1]['escore'])"
      ],
      "metadata": {
        "id": "SGYaOjMSnfXh"
      },
      "execution_count": null,
      "outputs": []
    },
    {
      "cell_type": "code",
      "source": [
        "print('stat=%.3f, p=%.3f' % (t, pvalue))"
      ],
      "metadata": {
        "colab": {
          "base_uri": "https://localhost:8080/"
        },
        "id": "9hd3igp5xHmU",
        "outputId": "33926e3d-248a-4cb2-dbb8-12371735d977"
      },
      "execution_count": null,
      "outputs": [
        {
          "output_type": "stream",
          "name": "stdout",
          "text": [
            "stat=-0.917, p=0.360\n"
          ]
        }
      ]
    },
    {
      "cell_type": "markdown",
      "source": [
        "Como podemos ver, o nosso `p-value`é de aproximadamente 0,36. Considerando o nível de significânica como 5%, nosso p-value deveria ser maior que 0,05. Como esta condição foi satisfeita, podemos aceitar a hipótese nula de que as médias **são iguais**."
      ],
      "metadata": {
        "id": "m2FT02Ioxj9R"
      }
    }
  ]
}